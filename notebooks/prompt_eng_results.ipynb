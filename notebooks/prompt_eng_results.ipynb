{
 "cells": [
  {
   "cell_type": "code",
   "execution_count": 1,
   "id": "c7ce7cb1-53d8-4f09-9694-e9ccf210daef",
   "metadata": {},
   "outputs": [],
   "source": [
    "import pandas as pd\n",
    "import seaborn as sns\n",
    "import IonPy\n",
    "from utils_.metrics import load_metrics, clean_up_results\n",
    "import matplotlib.pyplot as plt\n",
    "\n",
    "# Set the seaborn style\n",
    "sns.set_style(\"darkgrid\")"
   ]
  },
  {
   "cell_type": "code",
   "execution_count": 2,
   "id": "33a91754-b818-429a-a3c3-e27846dfbe6d",
   "metadata": {},
   "outputs": [
    {
     "data": {
      "application/vnd.jupyter.widget-view+json": {
       "model_id": "ec6754872a62443a9fc167e96aa5d898",
       "version_major": 2,
       "version_minor": 0
      },
      "text/plain": [
       "  0%|          | 0/14 [00:00<?, ?it/s]"
      ]
     },
     "metadata": {},
     "output_type": "display_data"
    }
   ],
   "source": [
    "df_results, broken_dirs = load_metrics(\"/u/vbutoi/victor_space/scratch/dec_results/prompt_eng\")"
   ]
  },
  {
   "cell_type": "code",
   "execution_count": 3,
   "id": "29835a45-e955-4fff-8f50-816993ec17bb",
   "metadata": {},
   "outputs": [
    {
     "name": "stdout",
     "output_type": "stream",
     "text": [
      "No broken directories found.\n"
     ]
    }
   ],
   "source": [
    "# Clean up the runs which crashed and thus don't have a pkl file.\n",
    "clean_up_results(broken_dirs)"
   ]
  },
  {
   "cell_type": "code",
   "execution_count": 4,
   "id": "9185d54a-4ff1-4125-af64-4c5f3eee8ea4",
   "metadata": {},
   "outputs": [
    {
     "data": {
      "text/plain": [
       "280000"
      ]
     },
     "execution_count": 4,
     "metadata": {},
     "output_type": "execute_result"
    }
   ],
   "source": [
    "len(df_results)"
   ]
  },
  {
   "cell_type": "code",
   "execution_count": 5,
   "id": "6d5d9c8c-9ff2-4ac6-9da9-7dcb24a920af",
   "metadata": {},
   "outputs": [
    {
     "data": {
      "text/html": [
       "<div>\n",
       "<style scoped>\n",
       "    .dataframe tbody tr th:only-of-type {\n",
       "        vertical-align: middle;\n",
       "    }\n",
       "\n",
       "    .dataframe tbody tr th {\n",
       "        vertical-align: top;\n",
       "    }\n",
       "\n",
       "    .dataframe thead th {\n",
       "        text-align: right;\n",
       "    }\n",
       "</style>\n",
       "<table border=\"1\" class=\"dataframe\">\n",
       "  <thead>\n",
       "    <tr style=\"text-align: right;\">\n",
       "      <th></th>\n",
       "      <th>id</th>\n",
       "      <th>class</th>\n",
       "      <th>benchmark</th>\n",
       "      <th>accuracy</th>\n",
       "      <th>mid_accuracy</th>\n",
       "      <th>image</th>\n",
       "      <th>prompt</th>\n",
       "      <th>prompt_id</th>\n",
       "      <th>result</th>\n",
       "      <th>correct_option</th>\n",
       "      <th>model</th>\n",
       "    </tr>\n",
       "  </thead>\n",
       "  <tbody>\n",
       "    <tr>\n",
       "      <th>0</th>\n",
       "      <td>0</td>\n",
       "      <td>vga</td>\n",
       "      <td>ARO_VGA</td>\n",
       "      <td>True</td>\n",
       "      <td>1.000000</td>\n",
       "      <td>/u/vbutoi/victor_space/data/visual_genome/imag...</td>\n",
       "      <td>Option A: the open door and the crouched man. ...</td>\n",
       "      <td>3</td>\n",
       "      <td>A</td>\n",
       "      <td>A</td>\n",
       "      <td>flan_t5</td>\n",
       "    </tr>\n",
       "    <tr>\n",
       "      <th>0</th>\n",
       "      <td>0</td>\n",
       "      <td>vga</td>\n",
       "      <td>ARO_VGA</td>\n",
       "      <td>True</td>\n",
       "      <td>1.000000</td>\n",
       "      <td>/u/vbutoi/victor_space/data/visual_genome/imag...</td>\n",
       "      <td>Option A: the open door and the crouched man. ...</td>\n",
       "      <td>3</td>\n",
       "      <td>A</td>\n",
       "      <td>A</td>\n",
       "      <td>flan_t5</td>\n",
       "    </tr>\n",
       "    <tr>\n",
       "      <th>1</th>\n",
       "      <td>1</td>\n",
       "      <td>vga</td>\n",
       "      <td>ARO_VGA</td>\n",
       "      <td>True</td>\n",
       "      <td>1.000000</td>\n",
       "      <td>/u/vbutoi/victor_space/data/visual_genome/imag...</td>\n",
       "      <td>Option A: the open door and the gray floor. Op...</td>\n",
       "      <td>3</td>\n",
       "      <td>A</td>\n",
       "      <td>A</td>\n",
       "      <td>flan_t5</td>\n",
       "    </tr>\n",
       "    <tr>\n",
       "      <th>2</th>\n",
       "      <td>2</td>\n",
       "      <td>vga</td>\n",
       "      <td>ARO_VGA</td>\n",
       "      <td>False</td>\n",
       "      <td>0.666667</td>\n",
       "      <td>/u/vbutoi/victor_space/data/visual_genome/imag...</td>\n",
       "      <td>Option A: the open door and the metal floor. O...</td>\n",
       "      <td>3</td>\n",
       "      <td>B</td>\n",
       "      <td>A</td>\n",
       "      <td>flan_t5</td>\n",
       "    </tr>\n",
       "    <tr>\n",
       "      <th>3</th>\n",
       "      <td>3</td>\n",
       "      <td>vga</td>\n",
       "      <td>ARO_VGA</td>\n",
       "      <td>True</td>\n",
       "      <td>0.750000</td>\n",
       "      <td>/u/vbutoi/victor_space/data/visual_genome/imag...</td>\n",
       "      <td>Option A: the open door and the long sleeved s...</td>\n",
       "      <td>3</td>\n",
       "      <td>A</td>\n",
       "      <td>A</td>\n",
       "      <td>flan_t5</td>\n",
       "    </tr>\n",
       "  </tbody>\n",
       "</table>\n",
       "</div>"
      ],
      "text/plain": [
       "   id class benchmark  accuracy  mid_accuracy  \\\n",
       "0   0   vga   ARO_VGA      True      1.000000   \n",
       "0   0   vga   ARO_VGA      True      1.000000   \n",
       "1   1   vga   ARO_VGA      True      1.000000   \n",
       "2   2   vga   ARO_VGA     False      0.666667   \n",
       "3   3   vga   ARO_VGA      True      0.750000   \n",
       "\n",
       "                                               image  \\\n",
       "0  /u/vbutoi/victor_space/data/visual_genome/imag...   \n",
       "0  /u/vbutoi/victor_space/data/visual_genome/imag...   \n",
       "1  /u/vbutoi/victor_space/data/visual_genome/imag...   \n",
       "2  /u/vbutoi/victor_space/data/visual_genome/imag...   \n",
       "3  /u/vbutoi/victor_space/data/visual_genome/imag...   \n",
       "\n",
       "                                              prompt prompt_id result  \\\n",
       "0  Option A: the open door and the crouched man. ...         3      A   \n",
       "0  Option A: the open door and the crouched man. ...         3      A   \n",
       "1  Option A: the open door and the gray floor. Op...         3      A   \n",
       "2  Option A: the open door and the metal floor. O...         3      B   \n",
       "3  Option A: the open door and the long sleeved s...         3      A   \n",
       "\n",
       "  correct_option    model  \n",
       "0              A  flan_t5  \n",
       "0              A  flan_t5  \n",
       "1              A  flan_t5  \n",
       "2              A  flan_t5  \n",
       "3              A  flan_t5  "
      ]
     },
     "execution_count": 5,
     "metadata": {},
     "output_type": "execute_result"
    }
   ],
   "source": [
    "df_results.head()"
   ]
  },
  {
   "cell_type": "code",
   "execution_count": 6,
   "id": "be69b4dc-6918-4128-999f-5cb14084857c",
   "metadata": {},
   "outputs": [
    {
     "name": "stdout",
     "output_type": "stream",
     "text": [
      "Unique values for benchmark: ['ARO_VGA' 'ARO_VGR']\n",
      "Unique values for prompt: ['Option A: the open door and the crouched man. Option B: the crouched door and the open man. Described from the viewpoint of looking at the image, which option is correct, A or B?'\n",
      " 'Option A: the open door and the gray floor. Option B: the gray door and the open floor. Described from the viewpoint of looking at the image, which option is correct, A or B?'\n",
      " 'Option A: the open door and the metal floor. Option B: the metal door and the open floor. Described from the viewpoint of looking at the image, which option is correct, A or B?'\n",
      " ...\n",
      " 'Option A: the soft elephant and the happy jacket. Option B: the happy elephant and the soft jacket. Looking at the image, which option is correct, A or B?'\n",
      " 'Option A: the black elephant and the happy jacket. Option B: the happy elephant and the black jacket. Looking at the image, which option is correct, A or B?'\n",
      " 'Option A: the drinking elephant and the soft jacket. Option B: the soft elephant and the drinking jacket. Looking at the image, which option is correct, A or B?']\n"
     ]
    }
   ],
   "source": [
    "# Specify the column names for which you want to find unique values\n",
    "varying_fields = [\"benchmark\", \"prompt\"]\n",
    "\n",
    "# Find unique values for the specified columns\n",
    "unique_values = {}\n",
    "for column in df_results.keys():\n",
    "    try:\n",
    "        unique_col_vals = df_results[column].unique()\n",
    "        if len(unique_col_vals) > 1 and column in varying_fields:\n",
    "            unique_values[column] = unique_col_vals\n",
    "    except Exception as e:\n",
    "        continue\n",
    "\n",
    "# Print the unique values for each column, if that column has more than one value.\n",
    "for column, values in unique_values.items():\n",
    "    print(f\"Unique values for {column}: {values}\")"
   ]
  },
  {
   "cell_type": "code",
   "execution_count": 7,
   "id": "23f8d09d-6394-4c50-984b-e0f6cbb0cb69",
   "metadata": {},
   "outputs": [],
   "source": [
    "# Create a new column by concatenating values from 'Column2' and 'Column3'\n",
    "eval_columns = ['benchmark', 'prompt_id']\n",
    "\n",
    "def combine_columns(row, columns):\n",
    "    values = [f\"{column}:{row[column]}\" for column in columns]\n",
    "    return '_'.join(values)\n",
    "    \n",
    "df_results['eval_regime'] = df_results.apply(lambda row: combine_columns(row, eval_columns), axis=1)"
   ]
  },
  {
   "cell_type": "code",
   "execution_count": 8,
   "id": "cae18d21-8609-4487-8cc6-c8b55639ae7f",
   "metadata": {},
   "outputs": [
    {
     "data": {
      "text/plain": [
       "0      benchmark:ARO_VGA_prompt_id:3\n",
       "0      benchmark:ARO_VGA_prompt_id:3\n",
       "1      benchmark:ARO_VGA_prompt_id:3\n",
       "2      benchmark:ARO_VGA_prompt_id:3\n",
       "3      benchmark:ARO_VGA_prompt_id:3\n",
       "                   ...              \n",
       "975    benchmark:ARO_VGA_prompt_id:5\n",
       "976    benchmark:ARO_VGA_prompt_id:5\n",
       "977    benchmark:ARO_VGA_prompt_id:5\n",
       "978    benchmark:ARO_VGA_prompt_id:5\n",
       "979    benchmark:ARO_VGA_prompt_id:5\n",
       "Name: eval_regime, Length: 280000, dtype: object"
      ]
     },
     "execution_count": 8,
     "metadata": {},
     "output_type": "execute_result"
    }
   ],
   "source": [
    "df_results['eval_regime']"
   ]
  },
  {
   "cell_type": "code",
   "execution_count": 9,
   "id": "6f88ad7e-f827-454c-958e-f48f0e08e3ca",
   "metadata": {},
   "outputs": [
    {
     "data": {
      "image/png": "[encoded data removed]",
      "text/plain": [
       "<Figure size 1152x720 with 1 Axes>"
      ]
     },
     "metadata": {
      "needs_background": "light"
     },
     "output_type": "display_data"
    }
   ],
   "source": [
    "# Set a larger figure size\n",
    "plt.figure(figsize=(16, 10))\n",
    "\n",
    "sns.barplot(x='benchmark', \n",
    "            y='accuracy',\n",
    "            data=df_results,\n",
    "            hue='prompt_id')\n",
    "\n",
    "# Add labels and title\n",
    "plt.ylabel('Accuracy')\n",
    "plt.title('Eval Accuracy Across Variations')\n",
    "\n",
    "# Tilt x-axis labels by 45 degrees\n",
    "plt.xticks(rotation=90)\n",
    "plt.ylim([0.4, 1])\n",
    "# Show the plot\n",
    "plt.show()"
   ]
  },
  {
   "cell_type": "code",
   "execution_count": 10,
   "id": "d01e98c1-ccdd-4732-975d-16900a1743bf",
   "metadata": {},
   "outputs": [
    {
     "data": {
      "text/html": [
       "<div>\n",
       "<style scoped>\n",
       "    .dataframe tbody tr th:only-of-type {\n",
       "        vertical-align: middle;\n",
       "    }\n",
       "\n",
       "    .dataframe tbody tr th {\n",
       "        vertical-align: top;\n",
       "    }\n",
       "\n",
       "    .dataframe thead th {\n",
       "        text-align: right;\n",
       "    }\n",
       "</style>\n",
       "<table border=\"1\" class=\"dataframe\">\n",
       "  <thead>\n",
       "    <tr style=\"text-align: right;\">\n",
       "      <th></th>\n",
       "      <th>eval_regime</th>\n",
       "      <th>benchmark</th>\n",
       "      <th>accuracy</th>\n",
       "    </tr>\n",
       "  </thead>\n",
       "  <tbody>\n",
       "    <tr>\n",
       "      <th>0</th>\n",
       "      <td>benchmark:ARO_VGA_prompt_id:2</td>\n",
       "      <td>ARO_VGA</td>\n",
       "      <td>0.88060</td>\n",
       "    </tr>\n",
       "    <tr>\n",
       "      <th>1</th>\n",
       "      <td>benchmark:ARO_VGA_prompt_id:3</td>\n",
       "      <td>ARO_VGA</td>\n",
       "      <td>0.86810</td>\n",
       "    </tr>\n",
       "    <tr>\n",
       "      <th>2</th>\n",
       "      <td>benchmark:ARO_VGA_prompt_id:4</td>\n",
       "      <td>ARO_VGA</td>\n",
       "      <td>0.84260</td>\n",
       "    </tr>\n",
       "    <tr>\n",
       "      <th>3</th>\n",
       "      <td>benchmark:ARO_VGA_prompt_id:5</td>\n",
       "      <td>ARO_VGA</td>\n",
       "      <td>0.83340</td>\n",
       "    </tr>\n",
       "    <tr>\n",
       "      <th>4</th>\n",
       "      <td>benchmark:ARO_VGA_prompt_id:6</td>\n",
       "      <td>ARO_VGA</td>\n",
       "      <td>0.84715</td>\n",
       "    </tr>\n",
       "    <tr>\n",
       "      <th>5</th>\n",
       "      <td>benchmark:ARO_VGA_prompt_id:7</td>\n",
       "      <td>ARO_VGA</td>\n",
       "      <td>0.80815</td>\n",
       "    </tr>\n",
       "    <tr>\n",
       "      <th>6</th>\n",
       "      <td>benchmark:ARO_VGA_prompt_id:8</td>\n",
       "      <td>ARO_VGA</td>\n",
       "      <td>0.84610</td>\n",
       "    </tr>\n",
       "    <tr>\n",
       "      <th>7</th>\n",
       "      <td>benchmark:ARO_VGR_prompt_id:2</td>\n",
       "      <td>ARO_VGR</td>\n",
       "      <td>0.60475</td>\n",
       "    </tr>\n",
       "    <tr>\n",
       "      <th>8</th>\n",
       "      <td>benchmark:ARO_VGR_prompt_id:3</td>\n",
       "      <td>ARO_VGR</td>\n",
       "      <td>0.60460</td>\n",
       "    </tr>\n",
       "    <tr>\n",
       "      <th>9</th>\n",
       "      <td>benchmark:ARO_VGR_prompt_id:4</td>\n",
       "      <td>ARO_VGR</td>\n",
       "      <td>0.60510</td>\n",
       "    </tr>\n",
       "    <tr>\n",
       "      <th>10</th>\n",
       "      <td>benchmark:ARO_VGR_prompt_id:5</td>\n",
       "      <td>ARO_VGR</td>\n",
       "      <td>0.60840</td>\n",
       "    </tr>\n",
       "    <tr>\n",
       "      <th>11</th>\n",
       "      <td>benchmark:ARO_VGR_prompt_id:6</td>\n",
       "      <td>ARO_VGR</td>\n",
       "      <td>0.61225</td>\n",
       "    </tr>\n",
       "    <tr>\n",
       "      <th>12</th>\n",
       "      <td>benchmark:ARO_VGR_prompt_id:7</td>\n",
       "      <td>ARO_VGR</td>\n",
       "      <td>0.60620</td>\n",
       "    </tr>\n",
       "    <tr>\n",
       "      <th>13</th>\n",
       "      <td>benchmark:ARO_VGR_prompt_id:8</td>\n",
       "      <td>ARO_VGR</td>\n",
       "      <td>0.59770</td>\n",
       "    </tr>\n",
       "  </tbody>\n",
       "</table>\n",
       "</div>"
      ],
      "text/plain": [
       "                      eval_regime benchmark  accuracy\n",
       "0   benchmark:ARO_VGA_prompt_id:2   ARO_VGA   0.88060\n",
       "1   benchmark:ARO_VGA_prompt_id:3   ARO_VGA   0.86810\n",
       "2   benchmark:ARO_VGA_prompt_id:4   ARO_VGA   0.84260\n",
       "3   benchmark:ARO_VGA_prompt_id:5   ARO_VGA   0.83340\n",
       "4   benchmark:ARO_VGA_prompt_id:6   ARO_VGA   0.84715\n",
       "5   benchmark:ARO_VGA_prompt_id:7   ARO_VGA   0.80815\n",
       "6   benchmark:ARO_VGA_prompt_id:8   ARO_VGA   0.84610\n",
       "7   benchmark:ARO_VGR_prompt_id:2   ARO_VGR   0.60475\n",
       "8   benchmark:ARO_VGR_prompt_id:3   ARO_VGR   0.60460\n",
       "9   benchmark:ARO_VGR_prompt_id:4   ARO_VGR   0.60510\n",
       "10  benchmark:ARO_VGR_prompt_id:5   ARO_VGR   0.60840\n",
       "11  benchmark:ARO_VGR_prompt_id:6   ARO_VGR   0.61225\n",
       "12  benchmark:ARO_VGR_prompt_id:7   ARO_VGR   0.60620\n",
       "13  benchmark:ARO_VGR_prompt_id:8   ARO_VGR   0.59770"
      ]
     },
     "execution_count": 10,
     "metadata": {},
     "output_type": "execute_result"
    }
   ],
   "source": [
    "df_results.groupby([\"eval_regime\", \"benchmark\"])['accuracy'].mean().reset_index()"
   ]
  }
 ],
 "metadata": {
  "kernelspec": {
   "display_name": "DINO",
   "language": "python",
   "name": "dino"
  },
  "language_info": {
   "codemirror_mode": {
    "name": "ipython",
    "version": 3
   },
   "file_extension": ".py",
   "mimetype": "text/x-python",
   "name": "python",
   "nbconvert_exporter": "python",
   "pygments_lexer": "ipython3",
   "version": "3.11.3"
  }
 },
 "nbformat": 4,
 "nbformat_minor": 5
}
