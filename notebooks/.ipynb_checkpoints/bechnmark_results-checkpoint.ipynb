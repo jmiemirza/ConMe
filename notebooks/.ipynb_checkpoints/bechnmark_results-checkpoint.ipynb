{
 "cells": [
  {
   "cell_type": "code",
   "execution_count": 1,
   "id": "c7ce7cb1-53d8-4f09-9694-e9ccf210daef",
   "metadata": {},
   "outputs": [],
   "source": [
    "import pandas as pd\n",
    "import seaborn as sns\n",
    "import IonPy\n",
    "from utils_.metrics import load_metrics, clean_up_results\n",
    "import matplotlib.pyplot as plt\n",
    "\n",
    "# Set the seaborn style\n",
    "sns.set_style(\"darkgrid\")"
   ]
  },
  {
   "cell_type": "code",
   "execution_count": 2,
   "id": "33a91754-b818-429a-a3c3-e27846dfbe6d",
   "metadata": {},
   "outputs": [
    {
     "data": {
      "application/vnd.jupyter.widget-view+json": {
       "model_id": "041e8e05bd6141fe8db3edf479b9a10e",
       "version_major": 2,
       "version_minor": 0
      },
      "text/plain": [
       "  0%|          | 0/12 [00:00<?, ?it/s]"
      ]
     },
     "metadata": {},
     "output_type": "display_data"
    }
   ],
   "source": [
    "df_results, broken_dirs = load_metrics(\"/u/vbutoi/victor_space/scratch/dec_results/aro_checklist\")"
   ]
  },
  {
   "cell_type": "code",
   "execution_count": 3,
   "id": "29835a45-e955-4fff-8f50-816993ec17bb",
   "metadata": {},
   "outputs": [
    {
     "name": "stdout",
     "output_type": "stream",
     "text": [
      "No broken directories found.\n"
     ]
    }
   ],
   "source": [
    "# Clean up the runs which crashed and thus don't have a pkl file.\n",
    "clean_up_results(broken_dirs)"
   ]
  },
  {
   "cell_type": "code",
   "execution_count": 4,
   "id": "9185d54a-4ff1-4125-af64-4c5f3eee8ea4",
   "metadata": {},
   "outputs": [
    {
     "data": {
      "text/plain": [
       "240000"
      ]
     },
     "execution_count": 4,
     "metadata": {},
     "output_type": "execute_result"
    }
   ],
   "source": [
    "len(df_results)"
   ]
  },
  {
   "cell_type": "code",
   "execution_count": 5,
   "id": "6d5d9c8c-9ff2-4ac6-9da9-7dcb24a920af",
   "metadata": {},
   "outputs": [
    {
     "data": {
      "text/html": [
       "<div>\n",
       "<style scoped>\n",
       "    .dataframe tbody tr th:only-of-type {\n",
       "        vertical-align: middle;\n",
       "    }\n",
       "\n",
       "    .dataframe tbody tr th {\n",
       "        vertical-align: top;\n",
       "    }\n",
       "\n",
       "    .dataframe thead th {\n",
       "        text-align: right;\n",
       "    }\n",
       "</style>\n",
       "<table border=\"1\" class=\"dataframe\">\n",
       "  <thead>\n",
       "    <tr style=\"text-align: right;\">\n",
       "      <th></th>\n",
       "      <th>id</th>\n",
       "      <th>class</th>\n",
       "      <th>benchmark</th>\n",
       "      <th>accuracy</th>\n",
       "      <th>mid_accuracy</th>\n",
       "      <th>image</th>\n",
       "      <th>prompt</th>\n",
       "      <th>result</th>\n",
       "      <th>correct_option:</th>\n",
       "      <th>model</th>\n",
       "      <th>correct_option</th>\n",
       "    </tr>\n",
       "  </thead>\n",
       "  <tbody>\n",
       "    <tr>\n",
       "      <th>0</th>\n",
       "      <td>0</td>\n",
       "      <td>vga</td>\n",
       "      <td>ARO_VGA</td>\n",
       "      <td>True</td>\n",
       "      <td>1.000000</td>\n",
       "      <td>/u/vbutoi/victor_space/data/visual_genome/imag...</td>\n",
       "      <td>Option A: the crouched door and the open man. ...</td>\n",
       "      <td>B</td>\n",
       "      <td>B</td>\n",
       "      <td>flan_t5</td>\n",
       "      <td>NaN</td>\n",
       "    </tr>\n",
       "    <tr>\n",
       "      <th>0</th>\n",
       "      <td>0</td>\n",
       "      <td>vga</td>\n",
       "      <td>ARO_VGA</td>\n",
       "      <td>True</td>\n",
       "      <td>1.000000</td>\n",
       "      <td>/u/vbutoi/victor_space/data/visual_genome/imag...</td>\n",
       "      <td>Option A: the crouched door and the open man. ...</td>\n",
       "      <td>B</td>\n",
       "      <td>B</td>\n",
       "      <td>flan_t5</td>\n",
       "      <td>NaN</td>\n",
       "    </tr>\n",
       "    <tr>\n",
       "      <th>1</th>\n",
       "      <td>1</td>\n",
       "      <td>vga</td>\n",
       "      <td>ARO_VGA</td>\n",
       "      <td>True</td>\n",
       "      <td>1.000000</td>\n",
       "      <td>/u/vbutoi/victor_space/data/visual_genome/imag...</td>\n",
       "      <td>Option A: the open door and the gray floor. Op...</td>\n",
       "      <td>A</td>\n",
       "      <td>A</td>\n",
       "      <td>flan_t5</td>\n",
       "      <td>NaN</td>\n",
       "    </tr>\n",
       "    <tr>\n",
       "      <th>2</th>\n",
       "      <td>2</td>\n",
       "      <td>vga</td>\n",
       "      <td>ARO_VGA</td>\n",
       "      <td>False</td>\n",
       "      <td>0.666667</td>\n",
       "      <td>/u/vbutoi/victor_space/data/visual_genome/imag...</td>\n",
       "      <td>Option A: the open door and the metal floor. O...</td>\n",
       "      <td>B</td>\n",
       "      <td>A</td>\n",
       "      <td>flan_t5</td>\n",
       "      <td>NaN</td>\n",
       "    </tr>\n",
       "    <tr>\n",
       "      <th>3</th>\n",
       "      <td>3</td>\n",
       "      <td>vga</td>\n",
       "      <td>ARO_VGA</td>\n",
       "      <td>True</td>\n",
       "      <td>0.750000</td>\n",
       "      <td>/u/vbutoi/victor_space/data/visual_genome/imag...</td>\n",
       "      <td>Option A: the open door and the long sleeved s...</td>\n",
       "      <td>A</td>\n",
       "      <td>A</td>\n",
       "      <td>flan_t5</td>\n",
       "      <td>NaN</td>\n",
       "    </tr>\n",
       "  </tbody>\n",
       "</table>\n",
       "</div>"
      ],
      "text/plain": [
       "   id class benchmark  accuracy  mid_accuracy  \\\n",
       "0   0   vga   ARO_VGA      True      1.000000   \n",
       "0   0   vga   ARO_VGA      True      1.000000   \n",
       "1   1   vga   ARO_VGA      True      1.000000   \n",
       "2   2   vga   ARO_VGA     False      0.666667   \n",
       "3   3   vga   ARO_VGA      True      0.750000   \n",
       "\n",
       "                                               image  \\\n",
       "0  /u/vbutoi/victor_space/data/visual_genome/imag...   \n",
       "0  /u/vbutoi/victor_space/data/visual_genome/imag...   \n",
       "1  /u/vbutoi/victor_space/data/visual_genome/imag...   \n",
       "2  /u/vbutoi/victor_space/data/visual_genome/imag...   \n",
       "3  /u/vbutoi/victor_space/data/visual_genome/imag...   \n",
       "\n",
       "                                              prompt result correct_option:  \\\n",
       "0  Option A: the crouched door and the open man. ...      B               B   \n",
       "0  Option A: the crouched door and the open man. ...      B               B   \n",
       "1  Option A: the open door and the gray floor. Op...      A               A   \n",
       "2  Option A: the open door and the metal floor. O...      B               A   \n",
       "3  Option A: the open door and the long sleeved s...      A               A   \n",
       "\n",
       "     model correct_option  \n",
       "0  flan_t5            NaN  \n",
       "0  flan_t5            NaN  \n",
       "1  flan_t5            NaN  \n",
       "2  flan_t5            NaN  \n",
       "3  flan_t5            NaN  "
      ]
     },
     "execution_count": 5,
     "metadata": {},
     "output_type": "execute_result"
    }
   ],
   "source": [
    "df_results.head()"
   ]
  },
  {
   "cell_type": "code",
   "execution_count": 6,
   "id": "be69b4dc-6918-4128-999f-5cb14084857c",
   "metadata": {},
   "outputs": [
    {
     "name": "stdout",
     "output_type": "stream",
     "text": [
      "Unique values for class: ['vga' 'coco' 'vgr' 'flickr']\n",
      "Unique values for benchmark: ['ARO_VGA' 'COCO' 'ARO_VGR' 'Flickr']\n",
      "Unique values for model: ['flan_t5' 'vicuna_13b' 'vicuna_7b']\n"
     ]
    }
   ],
   "source": [
    "# Specify the column names for which you want to find unique values\n",
    "varying_fields = [\"class\", \"benchmark\", \"model\"]\n",
    "\n",
    "# Find unique values for the specified columns\n",
    "unique_values = {}\n",
    "for column in df_results.keys():\n",
    "    try:\n",
    "        unique_col_vals = df_results[column].unique()\n",
    "        if len(unique_col_vals) > 1 and column in varying_fields:\n",
    "            unique_values[column] = unique_col_vals\n",
    "    except Exception as e:\n",
    "        continue\n",
    "\n",
    "# Print the unique values for each column, if that column has more than one value.\n",
    "for column, values in unique_values.items():\n",
    "    print(f\"Unique values for {column}: {values}\")"
   ]
  },
  {
   "cell_type": "code",
   "execution_count": 7,
   "id": "23f8d09d-6394-4c50-984b-e0f6cbb0cb69",
   "metadata": {},
   "outputs": [],
   "source": [
    "# Create a new column by concatenating values from 'Column2' and 'Column3'\n",
    "eval_columns = ['benchmark', 'model']\n",
    "\n",
    "def combine_columns(row, columns):\n",
    "    values = [f\"{column}:{row[column]}\" for column in columns]\n",
    "    return '_'.join(values)\n",
    "    \n",
    "df_results['eval_regime'] = df_results.apply(lambda row: combine_columns(row, eval_columns), axis=1)"
   ]
  },
  {
   "cell_type": "code",
   "execution_count": 8,
   "id": "cae18d21-8609-4487-8cc6-c8b55639ae7f",
   "metadata": {},
   "outputs": [
    {
     "data": {
      "text/plain": [
       "0      benchmark:ARO_VGA_model:flan_t5\n",
       "0      benchmark:ARO_VGA_model:flan_t5\n",
       "1      benchmark:ARO_VGA_model:flan_t5\n",
       "2      benchmark:ARO_VGA_model:flan_t5\n",
       "3      benchmark:ARO_VGA_model:flan_t5\n",
       "                    ...               \n",
       "975     benchmark:COCO_model:vicuna_7b\n",
       "976     benchmark:COCO_model:vicuna_7b\n",
       "977     benchmark:COCO_model:vicuna_7b\n",
       "978     benchmark:COCO_model:vicuna_7b\n",
       "979     benchmark:COCO_model:vicuna_7b\n",
       "Name: eval_regime, Length: 240000, dtype: object"
      ]
     },
     "execution_count": 8,
     "metadata": {},
     "output_type": "execute_result"
    }
   ],
   "source": [
    "df_results['eval_regime']"
   ]
  },
  {
   "cell_type": "code",
   "execution_count": 9,
   "id": "6f88ad7e-f827-454c-958e-f48f0e08e3ca",
   "metadata": {},
   "outputs": [
    {
     "data": {
      "image/png": "[encoded data removed]",
      "text/plain": [
       "<Figure size 1152x720 with 1 Axes>"
      ]
     },
     "metadata": {
      "needs_background": "light"
     },
     "output_type": "display_data"
    }
   ],
   "source": [
    "# Set a larger figure size\n",
    "plt.figure(figsize=(16, 10))\n",
    "\n",
    "sns.barplot(x='benchmark', \n",
    "            y='accuracy',\n",
    "            data=df_results,\n",
    "            hue='model')\n",
    "\n",
    "# Add labels and title\n",
    "plt.ylabel('Accuracy')\n",
    "plt.title('Eval Accuracy Across Variations')\n",
    "\n",
    "# Tilt x-axis labels by 45 degrees\n",
    "plt.xticks(rotation=90)\n",
    "\n",
    "# Show the plot\n",
    "plt.show()"
   ]
  },
  {
   "cell_type": "markdown",
   "id": "432b246e-83af-4d54-9e63-dc6e029ea4b4",
   "metadata": {},
   "source": [
    "# ARO VGR"
   ]
  },
  {
   "cell_type": "code",
   "execution_count": 10,
   "id": "83ebc3f3-fec6-4050-9dc3-02ca842128f0",
   "metadata": {},
   "outputs": [],
   "source": [
    "# Let's figure out what's going wrong with ARO_VGR (only looking at flan_t5 for now)\n",
    "vgr_eval = df_results['benchmark'] == 'ARO_VGR'\n",
    "flan_models = df_results['model'] == 'flan_t5'\n",
    "\n",
    "focused_vgr_rows = df_results[vgr_eval & flan_models]"
   ]
  },
  {
   "cell_type": "code",
   "execution_count": 11,
   "id": "d4b1dd98-cd2e-414c-9193-fdc6e2b21f0f",
   "metadata": {},
   "outputs": [
    {
     "data": {
      "text/html": [
       "<div>\n",
       "<style scoped>\n",
       "    .dataframe tbody tr th:only-of-type {\n",
       "        vertical-align: middle;\n",
       "    }\n",
       "\n",
       "    .dataframe tbody tr th {\n",
       "        vertical-align: top;\n",
       "    }\n",
       "\n",
       "    .dataframe thead th {\n",
       "        text-align: right;\n",
       "    }\n",
       "</style>\n",
       "<table border=\"1\" class=\"dataframe\">\n",
       "  <thead>\n",
       "    <tr style=\"text-align: right;\">\n",
       "      <th></th>\n",
       "      <th>id</th>\n",
       "      <th>class</th>\n",
       "      <th>benchmark</th>\n",
       "      <th>accuracy</th>\n",
       "      <th>mid_accuracy</th>\n",
       "      <th>image</th>\n",
       "      <th>prompt</th>\n",
       "      <th>result</th>\n",
       "      <th>correct_option:</th>\n",
       "      <th>model</th>\n",
       "      <th>correct_option</th>\n",
       "      <th>eval_regime</th>\n",
       "    </tr>\n",
       "  </thead>\n",
       "  <tbody>\n",
       "    <tr>\n",
       "      <th>0</th>\n",
       "      <td>0</td>\n",
       "      <td>vgr</td>\n",
       "      <td>ARO_VGR</td>\n",
       "      <td>True</td>\n",
       "      <td>1.000000</td>\n",
       "      <td>/u/vbutoi/victor_space/data/visual_genome/imag...</td>\n",
       "      <td>Option A: the door is to the left of the shirt...</td>\n",
       "      <td>A</td>\n",
       "      <td>A</td>\n",
       "      <td>flan_t5</td>\n",
       "      <td>NaN</td>\n",
       "      <td>benchmark:ARO_VGR_model:flan_t5</td>\n",
       "    </tr>\n",
       "    <tr>\n",
       "      <th>0</th>\n",
       "      <td>0</td>\n",
       "      <td>vgr</td>\n",
       "      <td>ARO_VGR</td>\n",
       "      <td>True</td>\n",
       "      <td>1.000000</td>\n",
       "      <td>/u/vbutoi/victor_space/data/visual_genome/imag...</td>\n",
       "      <td>Option A: the door is to the left of the shirt...</td>\n",
       "      <td>A</td>\n",
       "      <td>A</td>\n",
       "      <td>flan_t5</td>\n",
       "      <td>NaN</td>\n",
       "      <td>benchmark:ARO_VGR_model:flan_t5</td>\n",
       "    </tr>\n",
       "    <tr>\n",
       "      <th>1</th>\n",
       "      <td>1</td>\n",
       "      <td>vgr</td>\n",
       "      <td>ARO_VGR</td>\n",
       "      <td>False</td>\n",
       "      <td>0.500000</td>\n",
       "      <td>/u/vbutoi/victor_space/data/visual_genome/imag...</td>\n",
       "      <td>Option A: the man is to the left of the door. ...</td>\n",
       "      <td>A</td>\n",
       "      <td>B</td>\n",
       "      <td>flan_t5</td>\n",
       "      <td>NaN</td>\n",
       "      <td>benchmark:ARO_VGR_model:flan_t5</td>\n",
       "    </tr>\n",
       "    <tr>\n",
       "      <th>2</th>\n",
       "      <td>2</td>\n",
       "      <td>vgr</td>\n",
       "      <td>ARO_VGR</td>\n",
       "      <td>True</td>\n",
       "      <td>0.666667</td>\n",
       "      <td>/u/vbutoi/victor_space/data/visual_genome/imag...</td>\n",
       "      <td>Option A: the man is wearing the shirt. Option...</td>\n",
       "      <td>A</td>\n",
       "      <td>A</td>\n",
       "      <td>flan_t5</td>\n",
       "      <td>NaN</td>\n",
       "      <td>benchmark:ARO_VGR_model:flan_t5</td>\n",
       "    </tr>\n",
       "    <tr>\n",
       "      <th>3</th>\n",
       "      <td>3</td>\n",
       "      <td>vgr</td>\n",
       "      <td>ARO_VGR</td>\n",
       "      <td>True</td>\n",
       "      <td>0.750000</td>\n",
       "      <td>/u/vbutoi/victor_space/data/visual_genome/imag...</td>\n",
       "      <td>Option A: the train car is on the man. Option ...</td>\n",
       "      <td>B</td>\n",
       "      <td>B</td>\n",
       "      <td>flan_t5</td>\n",
       "      <td>NaN</td>\n",
       "      <td>benchmark:ARO_VGR_model:flan_t5</td>\n",
       "    </tr>\n",
       "    <tr>\n",
       "      <th>...</th>\n",
       "      <td>...</td>\n",
       "      <td>...</td>\n",
       "      <td>...</td>\n",
       "      <td>...</td>\n",
       "      <td>...</td>\n",
       "      <td>...</td>\n",
       "      <td>...</td>\n",
       "      <td>...</td>\n",
       "      <td>...</td>\n",
       "      <td>...</td>\n",
       "      <td>...</td>\n",
       "      <td>...</td>\n",
       "    </tr>\n",
       "    <tr>\n",
       "      <th>975</th>\n",
       "      <td>975</td>\n",
       "      <td>vgr</td>\n",
       "      <td>ARO_VGR</td>\n",
       "      <td>False</td>\n",
       "      <td>0.599385</td>\n",
       "      <td>/u/vbutoi/victor_space/data/visual_genome/imag...</td>\n",
       "      <td>Option A: the man is to the left of the trees....</td>\n",
       "      <td>A</td>\n",
       "      <td>B</td>\n",
       "      <td>flan_t5</td>\n",
       "      <td>NaN</td>\n",
       "      <td>benchmark:ARO_VGR_model:flan_t5</td>\n",
       "    </tr>\n",
       "    <tr>\n",
       "      <th>976</th>\n",
       "      <td>976</td>\n",
       "      <td>vgr</td>\n",
       "      <td>ARO_VGR</td>\n",
       "      <td>True</td>\n",
       "      <td>0.599795</td>\n",
       "      <td>/u/vbutoi/victor_space/data/visual_genome/imag...</td>\n",
       "      <td>Option A: the trees is to the left of the leav...</td>\n",
       "      <td>B</td>\n",
       "      <td>B</td>\n",
       "      <td>flan_t5</td>\n",
       "      <td>NaN</td>\n",
       "      <td>benchmark:ARO_VGR_model:flan_t5</td>\n",
       "    </tr>\n",
       "    <tr>\n",
       "      <th>977</th>\n",
       "      <td>977</td>\n",
       "      <td>vgr</td>\n",
       "      <td>ARO_VGR</td>\n",
       "      <td>False</td>\n",
       "      <td>0.599182</td>\n",
       "      <td>/u/vbutoi/victor_space/data/visual_genome/imag...</td>\n",
       "      <td>Option A: the trees is to the right of the lea...</td>\n",
       "      <td>B</td>\n",
       "      <td>A</td>\n",
       "      <td>flan_t5</td>\n",
       "      <td>NaN</td>\n",
       "      <td>benchmark:ARO_VGR_model:flan_t5</td>\n",
       "    </tr>\n",
       "    <tr>\n",
       "      <th>978</th>\n",
       "      <td>978</td>\n",
       "      <td>vgr</td>\n",
       "      <td>ARO_VGR</td>\n",
       "      <td>False</td>\n",
       "      <td>0.598570</td>\n",
       "      <td>/u/vbutoi/victor_space/data/visual_genome/imag...</td>\n",
       "      <td>Option A: the clouds is to the right of the tr...</td>\n",
       "      <td>A</td>\n",
       "      <td>B</td>\n",
       "      <td>flan_t5</td>\n",
       "      <td>NaN</td>\n",
       "      <td>benchmark:ARO_VGR_model:flan_t5</td>\n",
       "    </tr>\n",
       "    <tr>\n",
       "      <th>979</th>\n",
       "      <td>979</td>\n",
       "      <td>vgr</td>\n",
       "      <td>ARO_VGR</td>\n",
       "      <td>True</td>\n",
       "      <td>0.598980</td>\n",
       "      <td>/u/vbutoi/victor_space/data/visual_genome/imag...</td>\n",
       "      <td>Option A: the tree is to the right of the sky....</td>\n",
       "      <td>A</td>\n",
       "      <td>A</td>\n",
       "      <td>flan_t5</td>\n",
       "      <td>NaN</td>\n",
       "      <td>benchmark:ARO_VGR_model:flan_t5</td>\n",
       "    </tr>\n",
       "  </tbody>\n",
       "</table>\n",
       "<p>20000 rows × 12 columns</p>\n",
       "</div>"
      ],
      "text/plain": [
       "      id class benchmark  accuracy  mid_accuracy  \\\n",
       "0      0   vgr   ARO_VGR      True      1.000000   \n",
       "0      0   vgr   ARO_VGR      True      1.000000   \n",
       "1      1   vgr   ARO_VGR     False      0.500000   \n",
       "2      2   vgr   ARO_VGR      True      0.666667   \n",
       "3      3   vgr   ARO_VGR      True      0.750000   \n",
       "..   ...   ...       ...       ...           ...   \n",
       "975  975   vgr   ARO_VGR     False      0.599385   \n",
       "976  976   vgr   ARO_VGR      True      0.599795   \n",
       "977  977   vgr   ARO_VGR     False      0.599182   \n",
       "978  978   vgr   ARO_VGR     False      0.598570   \n",
       "979  979   vgr   ARO_VGR      True      0.598980   \n",
       "\n",
       "                                                 image  \\\n",
       "0    /u/vbutoi/victor_space/data/visual_genome/imag...   \n",
       "0    /u/vbutoi/victor_space/data/visual_genome/imag...   \n",
       "1    /u/vbutoi/victor_space/data/visual_genome/imag...   \n",
       "2    /u/vbutoi/victor_space/data/visual_genome/imag...   \n",
       "3    /u/vbutoi/victor_space/data/visual_genome/imag...   \n",
       "..                                                 ...   \n",
       "975  /u/vbutoi/victor_space/data/visual_genome/imag...   \n",
       "976  /u/vbutoi/victor_space/data/visual_genome/imag...   \n",
       "977  /u/vbutoi/victor_space/data/visual_genome/imag...   \n",
       "978  /u/vbutoi/victor_space/data/visual_genome/imag...   \n",
       "979  /u/vbutoi/victor_space/data/visual_genome/imag...   \n",
       "\n",
       "                                                prompt result correct_option:  \\\n",
       "0    Option A: the door is to the left of the shirt...      A               A   \n",
       "0    Option A: the door is to the left of the shirt...      A               A   \n",
       "1    Option A: the man is to the left of the door. ...      A               B   \n",
       "2    Option A: the man is wearing the shirt. Option...      A               A   \n",
       "3    Option A: the train car is on the man. Option ...      B               B   \n",
       "..                                                 ...    ...             ...   \n",
       "975  Option A: the man is to the left of the trees....      A               B   \n",
       "976  Option A: the trees is to the left of the leav...      B               B   \n",
       "977  Option A: the trees is to the right of the lea...      B               A   \n",
       "978  Option A: the clouds is to the right of the tr...      A               B   \n",
       "979  Option A: the tree is to the right of the sky....      A               A   \n",
       "\n",
       "       model correct_option                      eval_regime  \n",
       "0    flan_t5            NaN  benchmark:ARO_VGR_model:flan_t5  \n",
       "0    flan_t5            NaN  benchmark:ARO_VGR_model:flan_t5  \n",
       "1    flan_t5            NaN  benchmark:ARO_VGR_model:flan_t5  \n",
       "2    flan_t5            NaN  benchmark:ARO_VGR_model:flan_t5  \n",
       "3    flan_t5            NaN  benchmark:ARO_VGR_model:flan_t5  \n",
       "..       ...            ...                              ...  \n",
       "975  flan_t5            NaN  benchmark:ARO_VGR_model:flan_t5  \n",
       "976  flan_t5            NaN  benchmark:ARO_VGR_model:flan_t5  \n",
       "977  flan_t5            NaN  benchmark:ARO_VGR_model:flan_t5  \n",
       "978  flan_t5            NaN  benchmark:ARO_VGR_model:flan_t5  \n",
       "979  flan_t5            NaN  benchmark:ARO_VGR_model:flan_t5  \n",
       "\n",
       "[20000 rows x 12 columns]"
      ]
     },
     "execution_count": 11,
     "metadata": {},
     "output_type": "execute_result"
    }
   ],
   "source": [
    "focused_vgr_rows"
   ]
  },
  {
   "cell_type": "code",
   "execution_count": 12,
   "id": "40e22090-aee1-456d-bc78-dcd9ff260542",
   "metadata": {},
   "outputs": [
    {
     "data": {
      "image/png": "[encoded data removed]",
      "text/plain": [
       "<Figure size 1152x720 with 2 Axes>"
      ]
     },
     "metadata": {
      "needs_background": "light"
     },
     "output_type": "display_data"
    }
   ],
   "source": [
    "from sklearn.metrics import confusion_matrix\n",
    "\n",
    "# Extract true labels and predicted labels from the DataFrame\n",
    "true_labels = focused_vgr_rows['correct_option:']\n",
    "predicted_labels = focused_vgr_rows['result']\n",
    "\n",
    "# Compute the confusion matrix\n",
    "conf_matrix = confusion_matrix(true_labels, predicted_labels)\n",
    "\n",
    "# Setup plot\n",
    "plt.figure(figsize=(16, 10))\n",
    "\n",
    "# Create a heatmap using seaborn\n",
    "sns.heatmap(conf_matrix, annot=True, fmt=\"d\", cmap=\"Blues\", cbar=True)\n",
    "\n",
    "# Add labels, title, and axis ticks\n",
    "plt.xlabel('Predicted Labels')\n",
    "plt.ylabel('True Labels')\n",
    "plt.title('Confusion Matrix for ARO VGR')\n",
    "plt.xticks(ticks=[0.5, 1.5], labels=['Positive', 'Negative'])\n",
    "plt.yticks(ticks=[0.5, 1.5], labels=['Positive', 'Negative'])\n",
    "\n",
    "# Show the plot\n",
    "plt.show()"
   ]
  },
  {
   "cell_type": "code",
   "execution_count": 13,
   "id": "62665d67-3a04-47fa-bfcd-79d61d3fd173",
   "metadata": {},
   "outputs": [
    {
     "name": "stdout",
     "output_type": "stream",
     "text": [
      "Option A: the man is to the left of the door. Option B: the door is to the left of the man. Which option is correct for this image, A or B? -> door left man\n",
      "Option A: the man is to the right of the door. Option B: the door is to the right of the man. Which option is correct for this image, A or B? -> door man right\n",
      "Option A: the shirt is to the right of the door. Option B: the door is to the right of the shirt. Which option is correct for this image, A or B? -> door right shirt\n",
      "Option A: the table is under the plate. Option B: the plate is under the table. Which option is correct for this image, A or B? -> plate table under\n",
      "Option A: the table is below the plate. Option B: the plate is below the table. Which option is correct for this image, A or B? -> below plate table\n",
      "Option A: the banana is with the plate. Option B: the plate is with the banana. Which option is correct for this image, A or B? -> banana plate with\n",
      "Option A: the plate is with the banana. Option B: the banana is with the plate. Which option is correct for this image, A or B? -> banana plate with\n",
      "Option A: the skier is to the left of the woman. Option B: the woman is to the left of the skier. Which option is correct for this image, A or B? -> left skier woman\n",
      "Option A: the boot is to the right of the woman. Option B: the woman is to the right of the boot. Which option is correct for this image, A or B? -> boot right woman\n",
      "Option A: the woman is to the left of the boot. Option B: the boot is to the left of the woman. Which option is correct for this image, A or B? -> boot left woman\n"
     ]
    }
   ],
   "source": [
    "import numpy as np\n",
    "\n",
    "# Process prompts so that we can analyze any words which consistently show up.\n",
    "incorrect_vgr_rows = focused_vgr_rows[focused_vgr_rows['accuracy'] == False]\n",
    "all_vgr_incorrect_prompts = list(incorrect_vgr_rows['prompt'])\n",
    "basic_words = ['the ', 'is ', 'of ', 'to ', 'Option A: ', 'Option B: ']\n",
    "processed_incorrect_vgr_prompts = []\n",
    "for idx, ip in enumerate(all_vgr_incorrect_prompts):\n",
    "    options_text = \"\".join(ip.split(\".\")[:-1])\n",
    "    # Remove Option A and option B\n",
    "    for bw in basic_words:\n",
    "        options_text = options_text.replace(bw, \"\")\n",
    "\n",
    "    # Get rid of duplicate words\n",
    "    all_unique_words = list(np.unique(options_text.split(\" \")))\n",
    "    refined_optioned_text = \" \".join(all_unique_words)\n",
    "\n",
    "    # Print some examples and keep track of prompt\n",
    "    if idx < 10:\n",
    "        print(ip + \" -> \" + refined_optioned_text)\n",
    "    processed_incorrect_vgr_prompts.append(refined_optioned_text)"
   ]
  },
  {
   "cell_type": "code",
   "execution_count": 14,
   "id": "892ea541-c89e-4caf-b54d-a1bde8fe2ac5",
   "metadata": {},
   "outputs": [],
   "source": [
    "import re\n",
    "from collections import Counter\n",
    "\n",
    "def get_most_common_words(text_list, n):\n",
    "    \n",
    "    # Combine all the strings into one large string\n",
    "    combined_text = ' '.join(text_list)\n",
    "    \n",
    "    # Tokenize the text by splitting on spaces and removing punctuation\n",
    "    words = re.findall(r'\\b\\w+\\b', combined_text.lower())\n",
    "    \n",
    "    # Count the occurrences of each word\n",
    "    word_counts = Counter(words)\n",
    "    \n",
    "    # Get the most common N words\n",
    "    most_common_words = word_counts.most_common(n)\n",
    "    \n",
    "    # Convert this <list> of <tuples> to a dictionary\n",
    "    freq_dict = {}\n",
    "    for mcw in most_common_words:\n",
    "        freq_dict[mcw[0]] = mcw[1]\n",
    "        \n",
    "    return freq_dict\n",
    "\n",
    "def get_word_counts(words, prompts):\n",
    "    word_counts = {}\n",
    "    for word in words:\n",
    "        counter = 0\n",
    "        for prompt in prompts:\n",
    "            if word in prompt:\n",
    "                counter+=1\n",
    "        word_counts[word] = counter\n",
    "    return word_counts"
   ]
  },
  {
   "cell_type": "code",
   "execution_count": 15,
   "id": "5028fd93-de05-4611-a571-aa1b38b2b48b",
   "metadata": {},
   "outputs": [],
   "source": [
    "import numpy as np\n",
    "\n",
    "# For each word, this is how many incorrect prompts had this word in them\n",
    "most_common_vgr_incorrect_words = get_most_common_words(processed_incorrect_vgr_prompts, n=40)\n",
    "# For each word\n",
    "most_common_vgr_total_words = get_word_counts(\n",
    "    words=list(most_common_vgr_incorrect_words.keys()), \n",
    "    prompts=list(focused_vgr_rows['prompt'])\n",
    ")\n",
    "most_prevelant_dictionary = {}\n",
    "for word, frequency in most_common_vgr_incorrect_words.items():\n",
    "    proportion = np.round(frequency/most_common_vgr_total_words[word], 3)\n",
    "    assert proportion <= 1, \"Proportion needs to be less than 1...\"\n",
    "    most_prevelant_dictionary[word] = proportion\n",
    "    #print(f\"{word}: {frequency} incorrect occurrences, {most_common_vgr_total_words[word]} total occurences\")"
   ]
  },
  {
   "cell_type": "code",
   "execution_count": 16,
   "id": "80fa2b20-dcdc-4fb4-97cc-266bd4481547",
   "metadata": {},
   "outputs": [
    {
     "data": {
      "image/png": "[encoded data removed]",
      "text/plain": [
       "<Figure size 720x432 with 1 Axes>"
      ]
     },
     "metadata": {},
     "output_type": "display_data"
    }
   ],
   "source": [
    "# Create a bar plot using Seaborn\n",
    "top_k = 20\n",
    "xs = list(most_common_vgr_incorrect_words.keys())[:top_k]\n",
    "ys = list(most_common_vgr_incorrect_words.values())[:top_k]\n",
    "\n",
    "sns.set(style=\"whitegrid\")\n",
    "plt.figure(figsize=(10, 6))\n",
    "sns.barplot(x=xs, y=ys)\n",
    "plt.xlabel(\"Words\")\n",
    "plt.ylabel(\"Frequency\")\n",
    "plt.title(\"Frequency of Incorrect Words\")\n",
    "plt.xticks(rotation=45)\n",
    "plt.show()"
   ]
  },
  {
   "cell_type": "code",
   "execution_count": 17,
   "id": "a3adc54e-59ab-4229-a18c-ac702dc1bd77",
   "metadata": {},
   "outputs": [
    {
     "data": {
      "image/png": "[encoded data removed]",
      "text/plain": [
       "<Figure size 720x432 with 1 Axes>"
      ]
     },
     "metadata": {},
     "output_type": "display_data"
    }
   ],
   "source": [
    "# Create a bar plot using Seaborn\n",
    "top_k = 20\n",
    "xs = list(most_prevelant_dictionary.keys())[:top_k]\n",
    "ys = list(most_prevelant_dictionary.values())[:top_k]\n",
    "sorted_pairs = sorted(zip(xs, ys), key=lambda x: x[1])[::-1]\n",
    "xs, ys = zip(*sorted_pairs)\n",
    "\n",
    "sns.set(style=\"whitegrid\")\n",
    "plt.figure(figsize=(10, 6))\n",
    "sns.barplot(x=list(xs), y=list(ys))\n",
    "plt.xlabel(\"Words\")\n",
    "plt.ylabel(\"Proportion of Total Prompts\")\n",
    "plt.title(\"Prevelance of Incorrect Words\")\n",
    "plt.xticks(rotation=45)\n",
    "plt.show()"
   ]
  },
  {
   "cell_type": "code",
   "execution_count": 18,
   "id": "86c750cf-454e-49dc-a904-347ca9130daa",
   "metadata": {},
   "outputs": [
    {
     "name": "stdout",
     "output_type": "stream",
     "text": [
      "Percent% Left/Right in VGR Prompt: 81.92%\n"
     ]
    }
   ],
   "source": [
    "# This begs the question, what percent of INCORRECT prompts have left/right in them?\n",
    "num_hits = 0\n",
    "\n",
    "for prompt in processed_incorrect_vgr_prompts:\n",
    "    if \"left\" in prompt or \"right\" in prompt:\n",
    "        num_hits +=1 \n",
    "\n",
    "print(f\"Percent% Left/Right in VGR Prompt: {np.round(num_hits/len(processed_incorrect_vgr_prompts) * 100, 2)}%\")"
   ]
  }
 ],
 "metadata": {
  "kernelspec": {
   "display_name": "DINO",
   "language": "python",
   "name": "dino"
  },
  "language_info": {
   "codemirror_mode": {
    "name": "ipython",
    "version": 3
   },
   "file_extension": ".py",
   "mimetype": "text/x-python",
   "name": "python",
   "nbconvert_exporter": "python",
   "pygments_lexer": "ipython3",
   "version": "3.11.3"
  }
 },
 "nbformat": 4,
 "nbformat_minor": 5
}
